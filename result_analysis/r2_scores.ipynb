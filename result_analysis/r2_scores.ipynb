{
 "cells": [
  {
   "cell_type": "code",
   "execution_count": 6,
   "id": "d2ec374d-5470-4bdc-950e-70e3aab7fc49",
   "metadata": {},
   "outputs": [],
   "source": [
    "import pandas as pd\n",
    "import matplotlib.pyplot as plt\n",
    "import seaborn as sns\n",
    "import mlflow\n",
    "from mlflow.tracking.client import MlflowClient"
   ]
  },
  {
   "cell_type": "code",
   "execution_count": 7,
   "id": "de2980a6-4da9-4141-8215-3952b5a4008e",
   "metadata": {},
   "outputs": [],
   "source": [
    "mlflow.set_tracking_uri('file:///home/akira/akira/p-poteka-analysis/mlruns')"
   ]
  },
  {
   "cell_type": "code",
   "execution_count": 8,
   "id": "ae0478a1-b0a8-4802-8cb9-a954e4677b95",
   "metadata": {},
   "outputs": [
    {
     "name": "stdout",
     "output_type": "stream",
     "text": [
      "standard evaluate runs count: 14\n"
     ]
    }
   ],
   "source": [
    "standard_eval_runs = MlflowClient().search_runs(\"8\", filter_string=\"tags.mlflow.project.entryPoint = 'evaluate'\")\n",
    "print(f\"standard evaluate runs count: {len(standard_eval_runs)}\")"
   ]
  },
  {
   "cell_type": "code",
   "execution_count": 9,
   "id": "1b8d2010-e89c-40f4-8468-6e122acd3ae4",
   "metadata": {},
   "outputs": [],
   "source": [
    "from utils import get_results_dict, get_metrics_history_df\n",
    "save_img_dir_path = \"./grouped_chart/standard\""
   ]
  },
  {
   "cell_type": "code",
   "execution_count": 32,
   "id": "ba63a4af-a2b4-481e-97c5-c9d87995ce70",
   "metadata": {},
   "outputs": [],
   "source": [
    "standard_results_dict = get_results_dict(standard_eval_runs)\n",
    "save_img_dir_path = \"./grouped_chart/standard\""
   ]
  },
  {
   "cell_type": "code",
   "execution_count": 18,
   "id": "b35d1ede-ff41-4695-a85a-2f08e5284d6e",
   "metadata": {},
   "outputs": [
    {
     "data": {
      "text/html": [
       "<div>\n",
       "<style scoped>\n",
       "    .dataframe tbody tr th:only-of-type {\n",
       "        vertical-align: middle;\n",
       "    }\n",
       "\n",
       "    .dataframe tbody tr th {\n",
       "        vertical-align: top;\n",
       "    }\n",
       "\n",
       "    .dataframe thead th {\n",
       "        text-align: right;\n",
       "    }\n",
       "</style>\n",
       "<table border=\"1\" class=\"dataframe\">\n",
       "  <thead>\n",
       "    <tr style=\"text-align: right;\">\n",
       "      <th></th>\n",
       "      <th>r2_score</th>\n",
       "    </tr>\n",
       "  </thead>\n",
       "  <tbody>\n",
       "    <tr>\n",
       "      <th>count</th>\n",
       "      <td>126.000000</td>\n",
       "    </tr>\n",
       "    <tr>\n",
       "      <th>mean</th>\n",
       "      <td>0.348421</td>\n",
       "    </tr>\n",
       "    <tr>\n",
       "      <th>std</th>\n",
       "      <td>0.139488</td>\n",
       "    </tr>\n",
       "    <tr>\n",
       "      <th>min</th>\n",
       "      <td>0.024000</td>\n",
       "    </tr>\n",
       "    <tr>\n",
       "      <th>25%</th>\n",
       "      <td>0.250000</td>\n",
       "    </tr>\n",
       "    <tr>\n",
       "      <th>50%</th>\n",
       "      <td>0.334000</td>\n",
       "    </tr>\n",
       "    <tr>\n",
       "      <th>75%</th>\n",
       "      <td>0.434500</td>\n",
       "    </tr>\n",
       "    <tr>\n",
       "      <th>max</th>\n",
       "      <td>0.650000</td>\n",
       "    </tr>\n",
       "  </tbody>\n",
       "</table>\n",
       "</div>"
      ],
      "text/plain": [
       "         r2_score\n",
       "count  126.000000\n",
       "mean     0.348421\n",
       "std      0.139488\n",
       "min      0.024000\n",
       "25%      0.250000\n",
       "50%      0.334000\n",
       "75%      0.434500\n",
       "max      0.650000"
      ]
     },
     "execution_count": 18,
     "metadata": {},
     "output_type": "execute_result"
    }
   ],
   "source": [
    "param_names_list, seq_param_names_list = [], []\n",
    "r2_scores_list, seq_r2_scores_list = [], []\n",
    "for param_name, results_dict in standard_results_dict[\"r2_scores\"].items():\n",
    "    for key, val in results_dict.items():\n",
    "        if \"Sequential\" in key:\n",
    "            seq_param_names_list.append(param_name)\n",
    "            seq_r2_scores_list.append(val)\n",
    "        else:\n",
    "            param_names_list.append(param_name)\n",
    "            r2_scores_list.append(val)\n",
    "\n",
    "df = pd.DataFrame({\"input_parameters\": param_names_list, \"r2_score\": r2_scores_list})\n",
    "seq_df = pd.DataFrame({\"input_parameters\": seq_param_names_list, \"r2_score\": seq_r2_scores_list})\n",
    "df.describe()"
   ]
  },
  {
   "cell_type": "code",
   "execution_count": 19,
   "id": "10c32217-5675-41ab-b5c4-94531f46aac8",
   "metadata": {},
   "outputs": [
    {
     "data": {
      "text/html": [
       "<div>\n",
       "<style scoped>\n",
       "    .dataframe tbody tr th:only-of-type {\n",
       "        vertical-align: middle;\n",
       "    }\n",
       "\n",
       "    .dataframe tbody tr th {\n",
       "        vertical-align: top;\n",
       "    }\n",
       "\n",
       "    .dataframe thead th {\n",
       "        text-align: right;\n",
       "    }\n",
       "</style>\n",
       "<table border=\"1\" class=\"dataframe\">\n",
       "  <thead>\n",
       "    <tr style=\"text-align: right;\">\n",
       "      <th></th>\n",
       "      <th>r2_score</th>\n",
       "    </tr>\n",
       "  </thead>\n",
       "  <tbody>\n",
       "    <tr>\n",
       "      <th>count</th>\n",
       "      <td>126.000000</td>\n",
       "    </tr>\n",
       "    <tr>\n",
       "      <th>mean</th>\n",
       "      <td>0.937937</td>\n",
       "    </tr>\n",
       "    <tr>\n",
       "      <th>std</th>\n",
       "      <td>0.011115</td>\n",
       "    </tr>\n",
       "    <tr>\n",
       "      <th>min</th>\n",
       "      <td>0.905000</td>\n",
       "    </tr>\n",
       "    <tr>\n",
       "      <th>25%</th>\n",
       "      <td>0.931250</td>\n",
       "    </tr>\n",
       "    <tr>\n",
       "      <th>50%</th>\n",
       "      <td>0.940000</td>\n",
       "    </tr>\n",
       "    <tr>\n",
       "      <th>75%</th>\n",
       "      <td>0.945000</td>\n",
       "    </tr>\n",
       "    <tr>\n",
       "      <th>max</th>\n",
       "      <td>0.973000</td>\n",
       "    </tr>\n",
       "  </tbody>\n",
       "</table>\n",
       "</div>"
      ],
      "text/plain": [
       "         r2_score\n",
       "count  126.000000\n",
       "mean     0.937937\n",
       "std      0.011115\n",
       "min      0.905000\n",
       "25%      0.931250\n",
       "50%      0.940000\n",
       "75%      0.945000\n",
       "max      0.973000"
      ]
     },
     "execution_count": 19,
     "metadata": {},
     "output_type": "execute_result"
    }
   ],
   "source": [
    "seq_df.describe()"
   ]
  },
  {
   "cell_type": "code",
   "execution_count": 33,
   "id": "a2e78476-d7ba-4452-8b05-46ef24f1b4a6",
   "metadata": {},
   "outputs": [
    {
     "data": {
      "image/png": "[encoded data removed]",
      "text/plain": [
       "<Figure size 576x432 with 1 Axes>"
      ]
     },
     "metadata": {
      "needs_background": "light"
     },
     "output_type": "display_data"
    }
   ],
   "source": [
    "target_columns = [\"Rain\", \"RainTemperature\", \"RainHumidity\", \"RainWind\", \"RainTemperatureHumidityWind\"]\n",
    "fig, ax = plt.subplots(figsize=(8, 6))\n",
    "sns.boxplot(data=df.loc[df[\"input_parameters\"].isin(target_columns)], x=\"input_parameters\", y=\"r2_score\", order=target_columns)\n",
    "ax.set_title(\"R2 scores\")\n",
    "plt.xticks(rotation=330)\n",
    "fig.savefig(f\"{save_img_dir_path}/r2scores.png\")"
   ]
  },
  {
   "cell_type": "code",
   "execution_count": 34,
   "id": "0c74d111-0061-43b7-92c5-0192817689a3",
   "metadata": {},
   "outputs": [
    {
     "data": {
      "image/png": "[encoded data removed]",
      "text/plain": [
       "<Figure size 576x432 with 1 Axes>"
      ]
     },
     "metadata": {
      "needs_background": "light"
     },
     "output_type": "display_data"
    }
   ],
   "source": [
    "target_columns = [\"Rain\", \"RainTemperature\", \"RainHumidity\", \"RainWind\", \"RainTemperatureHumidityWind\"]\n",
    "fig, ax = plt.subplots(figsize=(8, 6))\n",
    "sns.boxplot(data=seq_df.loc[df[\"input_parameters\"].isin(target_columns)], x=\"input_parameters\", y=\"r2_score\", order=target_columns)\n",
    "ax.set_title(\"R2 scores\")\n",
    "plt.xticks(rotation=330)\n",
    "fig.savefig(f\"{save_img_dir_path}/seq_r2scores.png\")"
   ]
  },
  {
   "cell_type": "code",
   "execution_count": null,
   "id": "2d844f30-5ac3-45b0-93a1-28cda0e4d819",
   "metadata": {},
   "outputs": [],
   "source": []
  }
 ],
 "metadata": {
  "kernelspec": {
   "display_name": "Python 3 (ipykernel)",
   "language": "python",
   "name": "python3"
  },
  "language_info": {
   "codemirror_mode": {
    "name": "ipython",
    "version": 3
   },
   "file_extension": ".py",
   "mimetype": "text/x-python",
   "name": "python",
   "nbconvert_exporter": "python",
   "pygments_lexer": "ipython3",
   "version": "3.8.9"
  }
 },
 "nbformat": 4,
 "nbformat_minor": 5
}
